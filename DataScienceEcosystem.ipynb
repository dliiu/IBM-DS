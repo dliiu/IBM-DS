{
 "cells": [
  {
   "cell_type": "markdown",
   "id": "acfcf043-b1ae-49d7-a6cc-8e6074a9618f",
   "metadata": {},
   "source": [
    "# Data Science Tools and Ecosystem"
   ]
  },
  {
   "cell_type": "markdown",
   "id": "a060f21b-46bf-40ca-889f-76d35b268698",
   "metadata": {},
   "source": [
    "In this notebook, Data Science Tools and Ecosystem are summarized"
   ]
  },
  {
   "cell_type": "markdown",
   "id": "396ff8b3-8f87-453d-bc9b-a992ff041a51",
   "metadata": {},
   "source": [
    "**Objectives:**\n",
    "\n",
    "* List popular languages for Data Science\n",
    "* List commonly used libraries used by Data Scientists\n",
    "* Evaluate arithmetic expressions in Python"
   ]
  },
  {
   "cell_type": "markdown",
   "id": "8583c279-a993-4b87-bc0a-414f001492ea",
   "metadata": {},
   "source": [
    "Some of the popular languages that Data Scientists use are:"
   ]
  },
  {
   "cell_type": "markdown",
   "id": "64f2e137-39a6-46a1-aa75-aae92165ef3a",
   "metadata": {},
   "source": [
    "1. Python\n",
    "2. R\n",
    "3. SQL\n",
    "4. Scala\n",
    "5. Java"
   ]
  },
  {
   "cell_type": "markdown",
   "id": "92407449-226a-40c5-8a2a-df514401a47e",
   "metadata": {},
   "source": [
    "Some of the commonly used libraries used by Data Scientists include:"
   ]
  },
  {
   "cell_type": "markdown",
   "id": "7e7dd0ef-4046-4097-90c4-841127168457",
   "metadata": {},
   "source": [
    "1. Pandas\n",
    "2. NumPy\n",
    "3. Matplotlib\n",
    "4. Seaborn"
   ]
  },
  {
   "cell_type": "markdown",
   "id": "2e34b150-2949-4430-81b6-90a5585da987",
   "metadata": {},
   "source": [
    "| Data Science Tools |\n",
    "|--------------------|\n",
    "|      Jupyter       |\n",
    "| Apache Zeppelin    |\n",
    "| R Studio |"
   ]
  },
  {
   "cell_type": "markdown",
   "id": "76cc92c8-a663-4c04-8b25-e82763bbd5df",
   "metadata": {},
   "source": [
    "### Below are a few examples of evaluating arithmetic expressions in Python"
   ]
  },
  {
   "cell_type": "markdown",
   "id": "791d7a9e-b64f-4577-a3ae-06eae499a3c8",
   "metadata": {},
   "source": [
    "This a simple arithmetic expression to mutiply then add integers"
   ]
  },
  {
   "cell_type": "code",
   "execution_count": 1,
   "id": "4747a20e-8f96-405b-b987-b7ce7b1bb7c4",
   "metadata": {
    "tags": []
   },
   "outputs": [
    {
     "data": {
      "text/plain": [
       "17"
      ]
     },
     "execution_count": 1,
     "metadata": {},
     "output_type": "execute_result"
    }
   ],
   "source": [
    "(3*4)+5"
   ]
  },
  {
   "cell_type": "markdown",
   "id": "70900286-6aab-40ef-bcd2-af1016ce8475",
   "metadata": {},
   "source": [
    "This will convert 200 minutes to hours by diving by 60"
   ]
  },
  {
   "cell_type": "code",
   "execution_count": 2,
   "id": "ef6f9843-66d1-4bcb-8a5b-f34c3ff643c5",
   "metadata": {
    "tags": []
   },
   "outputs": [
    {
     "data": {
      "text/plain": [
       "3.3333333333333335"
      ]
     },
     "execution_count": 2,
     "metadata": {},
     "output_type": "execute_result"
    }
   ],
   "source": [
    "200/60"
   ]
  },
  {
   "cell_type": "markdown",
   "id": "1b442fda-fb2e-46b4-90e0-1ae2b3cd0275",
   "metadata": {},
   "source": [
    "## Author\n",
    "Donna"
   ]
  },
  {
   "cell_type": "code",
   "execution_count": null,
   "id": "fa3574f6-05ac-4aff-a164-6dd356f4c761",
   "metadata": {},
   "outputs": [],
   "source": []
  }
 ],
 "metadata": {
  "kernelspec": {
   "display_name": "Python",
   "language": "python",
   "name": "conda-env-python-py"
  },
  "language_info": {
   "codemirror_mode": {
    "name": "ipython",
    "version": 3
   },
   "file_extension": ".py",
   "mimetype": "text/x-python",
   "name": "python",
   "nbconvert_exporter": "python",
   "pygments_lexer": "ipython3",
   "version": "3.7.12"
  }
 },
 "nbformat": 4,
 "nbformat_minor": 5
}
